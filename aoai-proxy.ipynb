{
 "cells": [
  {
   "cell_type": "code",
   "execution_count": null,
   "metadata": {},
   "outputs": [],
   "source": [
    "%pip install fastapi uvicorn openai requests\n",
    "from IPython.display import clear_output ; clear_output()"
   ]
  },
  {
   "cell_type": "code",
   "execution_count": null,
   "metadata": {},
   "outputs": [],
   "source": [
    "%pycat aoai_proxy_config.py"
   ]
  },
  {
   "cell_type": "code",
   "execution_count": null,
   "metadata": {},
   "outputs": [],
   "source": [
    "%pycat aoai_proxy_server.py"
   ]
  },
  {
   "cell_type": "code",
   "execution_count": null,
   "metadata": {},
   "outputs": [],
   "source": [
    "import os\n",
    "from time import sleep\n",
    "\n",
    "os.system(\"\"\"uvicorn aoai_proxy_server:app &\"\"\")\n",
    "sleep(3)"
   ]
  },
  {
   "cell_type": "code",
   "execution_count": null,
   "metadata": {},
   "outputs": [],
   "source": [
    "import openai\n",
    "import requests\n",
    "\n",
    "from aoai_proxy_config import USERS\n",
    "\n",
    "openai.api_type = 'azure'\n",
    "openai.api_version = '2023-03-15-preview'\n",
    "openai.api_base = 'http://127.0.0.1:8000'\n",
    "\n",
    "deployment_id = 'gpt-35-turbo' # Replace if using a different deployment name\n",
    "\n",
    "def chat(user, prompt):\n",
    "    openai.api_key = USERS[user]['api_key']\n",
    "    completion = openai.ChatCompletion.create(\n",
    "        deployment_id='gpt-35-turbo',\n",
    "        messages=[{'role': 'user', 'content': prompt}],\n",
    "    )\n",
    "    print(f'{user}: {prompt}')\n",
    "    print(completion.choices[0]['message']['content'])\n",
    "    print('---------------')\n",
    "    usage = requests.get('http://127.0.0.1:8000/usage').json()\n",
    "    print(f'Total cost: ${usage[\"total_cost\"]:.7f}')\n",
    "    for user, user_usage in usage['users'].items():\n",
    "        print(f'{user} cost: ${user_usage[\"total_cost\"]:.7f}')\n",
    "    for endpoint, endpoint_usage in usage['endpoints'].items():\n",
    "        print(f'{endpoint} cost: ${endpoint_usage[\"total_cost\"]:.7f}')"
   ]
  },
  {
   "cell_type": "code",
   "execution_count": null,
   "metadata": {},
   "outputs": [],
   "source": [
    "chat('Angela', 'What is the capital of France?')"
   ]
  },
  {
   "cell_type": "code",
   "execution_count": null,
   "metadata": {},
   "outputs": [],
   "source": [
    "chat('Benjamin', 'Write a haiku about rainbows.')"
   ]
  },
  {
   "cell_type": "code",
   "execution_count": null,
   "metadata": {},
   "outputs": [],
   "source": [
    "chat('Cynthia', 'Count from 1 to 23.')"
   ]
  },
  {
   "cell_type": "code",
   "execution_count": null,
   "metadata": {},
   "outputs": [],
   "source": [
    "chat('David', 'What are 7 words starting with the letter \"a\"?')"
   ]
  },
  {
   "cell_type": "code",
   "execution_count": null,
   "metadata": {},
   "outputs": [],
   "source": [
    "chat('Angela', 'Who was the 11th president of the US?')"
   ]
  },
  {
   "cell_type": "code",
   "execution_count": null,
   "metadata": {},
   "outputs": [],
   "source": [
    "chat('Cynthia', 'What number comes after 17?')"
   ]
  },
  {
   "cell_type": "code",
   "execution_count": null,
   "metadata": {},
   "outputs": [],
   "source": [
    "os.system(\"\"\"kill $(ps aux | grep '[u]vicorn' | awk '{print $2}')\"\"\")"
   ]
  }
 ],
 "metadata": {
  "kernelspec": {
   "display_name": "Python 3",
   "language": "python",
   "name": "python3"
  },
  "language_info": {
   "codemirror_mode": {
    "name": "ipython",
    "version": 3
   },
   "file_extension": ".py",
   "mimetype": "text/x-python",
   "name": "python",
   "nbconvert_exporter": "python",
   "pygments_lexer": "ipython3",
   "version": "3.11.3"
  },
  "orig_nbformat": 4
 },
 "nbformat": 4,
 "nbformat_minor": 2
}
